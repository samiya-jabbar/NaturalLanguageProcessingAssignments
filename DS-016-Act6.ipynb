{
 "cells": [
  {
   "cell_type": "code",
   "execution_count": 1,
   "id": "edf78296",
   "metadata": {},
   "outputs": [],
   "source": [
    "tp = 90\n",
    "tn = 9560\n",
    "fp = 210\n",
    "fn = 200"
   ]
  },
  {
   "cell_type": "code",
   "execution_count": 2,
   "id": "9c579da2",
   "metadata": {},
   "outputs": [
    {
     "name": "stdout",
     "output_type": "stream",
     "text": [
      "0.9592445328031809\n"
     ]
    }
   ],
   "source": [
    "accuracy = (tp+tn)/ (tp+tn+fp+fn)\n",
    "print(accuracy)"
   ]
  },
  {
   "cell_type": "code",
   "execution_count": 3,
   "id": "979b5223",
   "metadata": {},
   "outputs": [
    {
     "name": "stdout",
     "output_type": "stream",
     "text": [
      "0.3\n"
     ]
    }
   ],
   "source": [
    "precision = tp/ (tp+fp)\n",
    "print(precision)"
   ]
  },
  {
   "cell_type": "code",
   "execution_count": 4,
   "id": "9d75574f",
   "metadata": {},
   "outputs": [
    {
     "name": "stdout",
     "output_type": "stream",
     "text": [
      "0.3103448275862069\n"
     ]
    }
   ],
   "source": [
    "recall = tp/ (tp+fn)\n",
    "print(recall)"
   ]
  },
  {
   "cell_type": "code",
   "execution_count": 5,
   "id": "8088ba66",
   "metadata": {},
   "outputs": [
    {
     "name": "stdout",
     "output_type": "stream",
     "text": [
      "0.3050847457627119\n"
     ]
    }
   ],
   "source": [
    "f1_score = (2*precision*recall) / (precision + recall)\n",
    "print(f1_score)"
   ]
  },
  {
   "cell_type": "code",
   "execution_count": null,
   "id": "b4b2f3de",
   "metadata": {},
   "outputs": [],
   "source": []
  }
 ],
 "metadata": {
  "kernelspec": {
   "display_name": "nlpWorks",
   "language": "python",
   "name": "nlpworks"
  },
  "language_info": {
   "codemirror_mode": {
    "name": "ipython",
    "version": 3
   },
   "file_extension": ".py",
   "mimetype": "text/x-python",
   "name": "python",
   "nbconvert_exporter": "python",
   "pygments_lexer": "ipython3",
   "version": "3.11.2"
  }
 },
 "nbformat": 4,
 "nbformat_minor": 5
}
