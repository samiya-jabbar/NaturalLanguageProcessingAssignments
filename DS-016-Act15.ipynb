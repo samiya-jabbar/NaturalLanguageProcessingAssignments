{
 "cells": [
  {
   "cell_type": "markdown",
   "id": "857c96eb",
   "metadata": {},
   "source": [
    "# PROGRAM FOR NER - USING CLASSICAL ML MODEL"
   ]
  },
  {
   "cell_type": "code",
   "execution_count": 1,
   "id": "1395902f",
   "metadata": {},
   "outputs": [],
   "source": [
    "import numpy as np\n",
    "from sklearn.feature_extraction import DictVectorizer\n",
    "from sklearn.svm import LinearSVC\n",
    "from sklearn.pipeline import Pipeline"
   ]
  },
  {
   "cell_type": "code",
   "execution_count": 2,
   "id": "e9dac1ba",
   "metadata": {},
   "outputs": [],
   "source": [
    "# Sample training data\n",
    "training_data = [\n",
    "    ({'word': 'Jane'}, 'PERSON'),\n",
    "    ({'word': 'Villanueva'}, 'PERSON'),\n",
    "    ({'word': 'United'}, 'ORGANIZATION'),\n",
    "    ({'word': 'United Airlines Holding'}, 'ORGANIZATION'),\n",
    "    ({'word': 'Chicago'}, 'LOCATION')\n",
    "]"
   ]
  },
  {
   "cell_type": "code",
   "execution_count": 3,
   "id": "0a61cd82",
   "metadata": {},
   "outputs": [],
   "source": [
    "# Extract features from the training data\n",
    "X = [data[0] for data in training_data]\n",
    "y = [data[1] for data in training_data]"
   ]
  },
  {
   "cell_type": "code",
   "execution_count": 5,
   "id": "ad2bfa98",
   "metadata": {},
   "outputs": [
    {
     "name": "stdout",
     "output_type": "stream",
     "text": [
      "[{'word': 'Jane'}, {'word': 'Villanueva'}, {'word': 'United'}, {'word': 'United Airlines Holding'}, {'word': 'Chicago'}] ['PERSON', 'PERSON', 'ORGANIZATION', 'ORGANIZATION', 'LOCATION']\n"
     ]
    }
   ],
   "source": [
    "print(X , y)"
   ]
  },
  {
   "cell_type": "code",
   "execution_count": 7,
   "id": "096bf5f9",
   "metadata": {},
   "outputs": [],
   "source": [
    "# Create a pipeline with feature extraction and classifier\n",
    "pipeline = Pipeline([\n",
    "    ('feature_extraction', DictVectorizer()),\n",
    "    ('classifier', LinearSVC())\n",
    "])"
   ]
  },
  {
   "cell_type": "code",
   "execution_count": 8,
   "id": "0e0ef1ab",
   "metadata": {},
   "outputs": [],
   "source": [
    "# Train the model\n",
    "model = pipeline.fit(X, y)"
   ]
  },
  {
   "cell_type": "code",
   "execution_count": 20,
   "id": "9c63ff75",
   "metadata": {},
   "outputs": [
    {
     "name": "stdout",
     "output_type": "stream",
     "text": [
      "Named Entity Label for {'word': 'Jane'}: PERSON\n",
      "Named Entity Label for {'word': 'Chicago'}: LOCATION\n"
     ]
    }
   ],
   "source": [
    "# Sample test data\n",
    "test_data_1 = {'word': 'Jane'}\n",
    "test_data_2 = {'word': 'Chicago'}\n",
    "\n",
    "# Predict the named entity label\n",
    "prediction1 = model.predict([test_data_1])\n",
    "prediction2 = model.predict([test_data_2])\n",
    "\n",
    "print(f'Named Entity Label for {test_data_1}:', prediction1[0])\n",
    "print(f'Named Entity Label for {test_data_2}:', prediction2[0])"
   ]
  },
  {
   "cell_type": "markdown",
   "id": "a6b50bb5",
   "metadata": {},
   "source": [
    "# PROGRAM FOR NER - USING MODERN ML MODEL"
   ]
  },
  {
   "cell_type": "code",
   "execution_count": 2,
   "id": "a3dca2a7",
   "metadata": {},
   "outputs": [],
   "source": [
    "# Import free, open-source library for NLP in Python\n",
    "#designed to make it easy to build systems for information extraction or general-purpose NLP\n",
    "import spacy\n",
    "from spacy import displacy"
   ]
  },
  {
   "cell_type": "code",
   "execution_count": 3,
   "id": "4deeca5a",
   "metadata": {},
   "outputs": [],
   "source": [
    "# Load model that is pre-tranied on eglish language, sm = small model that is optimized for speed\n",
    "nlp = spacy.load(\"en_core_web_sm\")"
   ]
  },
  {
   "cell_type": "code",
   "execution_count": 21,
   "id": "dd319d66",
   "metadata": {},
   "outputs": [],
   "source": [
    "#Load the text\n",
    "text =(\"We are student of NED University, Pakistan. Student of Batch 2021\")\n",
    "#Process the text\n",
    "doc = nlp(text)"
   ]
  },
  {
   "cell_type": "code",
   "execution_count": 22,
   "id": "a32d7196",
   "metadata": {},
   "outputs": [
    {
     "name": "stdout",
     "output_type": "stream",
     "text": [
      "[('NED University', 18, 32, 'ORG'), ('Pakistan', 34, 42, 'GPE'), ('2021', 61, 65, 'DATE')]\n"
     ]
    }
   ],
   "source": [
    "# Iterate over the entities in the document and print entities\n",
    "ents = [(e.text, e.start_char, e.end_char, e.label_) for e in doc.ents]\n",
    "print(ents)"
   ]
  },
  {
   "cell_type": "code",
   "execution_count": 23,
   "id": "151d1762",
   "metadata": {},
   "outputs": [
    {
     "data": {
      "text/html": [
       "<span class=\"tex2jax_ignore\"><div class=\"entities\" style=\"line-height: 2.5; direction: ltr\">We are student of \n",
       "<mark class=\"entity\" style=\"background: #7aecec; padding: 0.45em 0.6em; margin: 0 0.25em; line-height: 1; border-radius: 0.35em;\">\n",
       "    NED University\n",
       "    <span style=\"font-size: 0.8em; font-weight: bold; line-height: 1; border-radius: 0.35em; vertical-align: middle; margin-left: 0.5rem\">ORG</span>\n",
       "</mark>\n",
       ", \n",
       "<mark class=\"entity\" style=\"background: #feca74; padding: 0.45em 0.6em; margin: 0 0.25em; line-height: 1; border-radius: 0.35em;\">\n",
       "    Pakistan\n",
       "    <span style=\"font-size: 0.8em; font-weight: bold; line-height: 1; border-radius: 0.35em; vertical-align: middle; margin-left: 0.5rem\">GPE</span>\n",
       "</mark>\n",
       ". Student of Batch \n",
       "<mark class=\"entity\" style=\"background: #bfe1d9; padding: 0.45em 0.6em; margin: 0 0.25em; line-height: 1; border-radius: 0.35em;\">\n",
       "    2021\n",
       "    <span style=\"font-size: 0.8em; font-weight: bold; line-height: 1; border-radius: 0.35em; vertical-align: middle; margin-left: 0.5rem\">DATE</span>\n",
       "</mark>\n",
       "</div></span>"
      ],
      "text/plain": [
       "<IPython.core.display.HTML object>"
      ]
     },
     "metadata": {},
     "output_type": "display_data"
    }
   ],
   "source": [
    "# using displaycy function for visualization purpose\n",
    "displacy.render(doc, style='ent', jupyter=True)"
   ]
  },
  {
   "cell_type": "code",
   "execution_count": null,
   "id": "137d0762",
   "metadata": {},
   "outputs": [],
   "source": []
  }
 ],
 "metadata": {
  "kernelspec": {
   "display_name": "nlpWorks",
   "language": "python",
   "name": "nlpworks"
  },
  "language_info": {
   "codemirror_mode": {
    "name": "ipython",
    "version": 3
   },
   "file_extension": ".py",
   "mimetype": "text/x-python",
   "name": "python",
   "nbconvert_exporter": "python",
   "pygments_lexer": "ipython3",
   "version": "3.11.2"
  }
 },
 "nbformat": 4,
 "nbformat_minor": 5
}
