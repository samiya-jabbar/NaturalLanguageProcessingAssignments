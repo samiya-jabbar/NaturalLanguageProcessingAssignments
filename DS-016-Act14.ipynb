{
 "cells": [
  {
   "cell_type": "code",
   "execution_count": 30,
   "id": "a2125ba5",
   "metadata": {},
   "outputs": [],
   "source": [
    "def named_entity_recognizer(text):\n",
    "    # Split the text into individual words\n",
    "    words = text.split()\n",
    "    \n",
    "    # Initialize an empty list to store named entities\n",
    "    named_entities = []\n",
    "    \n",
    "    # Define a list of common Muslim Pakistani names\n",
    "    muslim_pakistani_names = [\"Ahmed\", \"Ali\", \"Fatima\", \"Aisha\", \"Muhammad\", \"Zainab\"]\n",
    "    # Define a list of cities of Pakistan\n",
    "    pakistan_cities = [\"Karachi\", \"Lahore\", \"Islamabad\"]\n",
    "\n",
    "    # Iterate over the words in the text\n",
    "    for word in words:\n",
    "        # Check if the word is in the list of Muslim Pakistani names\n",
    "        if word in muslim_pakistani_names:\n",
    "            named_entities.append((word, \"MUSLIM NAME\"))  # Add the word as a MUSLIM NAME named entity\n",
    "        if word in pakistan_cities:\n",
    "            named_entities.append((word, \"CITY OF PAKISTAN\")) # Add the word as a CITY OF PAKISTAN named entity\n",
    "            \n",
    "    return named_entities"
   ]
  },
  {
   "cell_type": "code",
   "execution_count": 31,
   "id": "6432ddfd",
   "metadata": {},
   "outputs": [
    {
     "name": "stdout",
     "output_type": "stream",
     "text": [
      "[('Ahmed', 'MUSLIM NAME'), ('Fatima', 'MUSLIM NAME'), ('Lahore', 'CITY OF PAKISTAN')]\n"
     ]
    }
   ],
   "source": [
    "# Example usage\n",
    "text = \"Ahmed and Fatima went to the Lahore market.\"\n",
    "entities = named_entity_recognizer(text)\n",
    "print(entities)"
   ]
  },
  {
   "cell_type": "code",
   "execution_count": null,
   "id": "44d846a6",
   "metadata": {},
   "outputs": [],
   "source": []
  }
 ],
 "metadata": {
  "kernelspec": {
   "display_name": "nlpWorks",
   "language": "python",
   "name": "nlpworks"
  },
  "language_info": {
   "codemirror_mode": {
    "name": "ipython",
    "version": 3
   },
   "file_extension": ".py",
   "mimetype": "text/x-python",
   "name": "python",
   "nbconvert_exporter": "python",
   "pygments_lexer": "ipython3",
   "version": "3.11.2"
  }
 },
 "nbformat": 4,
 "nbformat_minor": 5
}
